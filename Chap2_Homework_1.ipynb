{
 "cells": [
  {
   "cell_type": "markdown",
   "metadata": {},
   "source": [
    "Homework 1"
   ]
  },
  {
   "cell_type": "code",
   "execution_count": null,
   "metadata": {},
   "outputs": [],
   "source": [
    "import pymongo \n",
    "import json\n",
    "import datetime\n",
    "\n",
    "\n",
    "client = pymongo.MongoClient('localhost', 27017)\n",
    "mydb = client[\"Chapitre2\"]\n",
    "collection = mydb[\"Homework1\"]\n",
    "\n",
    "with open('C:/Users/Andrija/Desktop/Skola/Master/M1/S2/NoSQL/pubmed_last_100k.json', encoding=\"utf8\") as doc:\n",
    "    result = json.load(doc)\n",
    "\n",
    "[paper.pop('_id') for paper in result]\n",
    "collection.insert_many(result)"
   ]
  },
  {
   "cell_type": "markdown",
   "metadata": {},
   "source": [
    "Exo 1"
   ]
  },
  {
   "cell_type": "code",
   "execution_count": null,
   "metadata": {},
   "outputs": [],
   "source": [
    "collection.create_index([ (\"pmid\",1) ])\n",
    "# because pmid is unique for each parer"
   ]
  },
  {
   "cell_type": "markdown",
   "metadata": {},
   "source": [
    "Exo 2"
   ]
  },
  {
   "cell_type": "code",
   "execution_count": null,
   "metadata": {},
   "outputs": [],
   "source": [
    "date_str = \"01/01/2019\"\n",
    "date = datetime.datetime.strptime(date_str, \"%d/%m/%Y\")\n",
    "date = datetime.datetime.timestamp(date)\n",
    "\n",
    "myquery = {\"unix\" : {\"$lt\" : date}}# $lt = lower than ; $gt = greater than\n",
    "\n",
    "collection.delete_many(myquery)"
   ]
  },
  {
   "cell_type": "markdown",
   "metadata": {},
   "source": [
    "Exo 3"
   ]
  },
  {
   "cell_type": "code",
   "execution_count": null,
   "metadata": {},
   "outputs": [],
   "source": [
    "myquery2 = {\"author\" :{ \"$size\" : 1}}\n",
    "collection.count_documents(myquery2)\n",
    "collection.count(myquery2)\n",
    "myquery3 = {\"author\" :{ \"$size\" : 2}}\n",
    "collection.count_documents(myquery3)"
   ]
  },
  {
   "cell_type": "markdown",
   "metadata": {},
   "source": [
    "Exo 4"
   ]
  },
  {
   "cell_type": "code",
   "execution_count": null,
   "metadata": {},
   "outputs": [],
   "source": [
    "last_doc=collection.find().sort([(\"_id\",-1)]).limit(5)\n",
    "print(next(last_doc))"
   ]
  },
  {
   "cell_type": "markdown",
   "metadata": {},
   "source": [
    "Exo 5"
   ]
  },
  {
   "cell_type": "code",
   "execution_count": null,
   "metadata": {},
   "outputs": [],
   "source": [
    "myquery3 = {\"meshwords\" : {\"$eq\" : None}} # $eq = equals\n",
    "collection.count_documents(myquery3)"
   ]
  },
  {
   "cell_type": "markdown",
   "metadata": {},
   "source": [
    "Exo 6"
   ]
  },
  {
   "cell_type": "code",
   "execution_count": null,
   "metadata": {},
   "outputs": [],
   "source": [
    "docs = collection.find({\"$or\":[ { \"abstract\":{\"$exists\":1,\"$regex\" : \".*machine learning.*\"}},\n",
    "                                {\"meshwords\":{\"$exists\":1,\"$elemMatch\" : {\"$regex\" : \".*machine learning.*\"}}},\n",
    "                                {\"title\": {\"$exists\":1,\"$elemMatch\" : {\"$regex\" : \".*machine learning.*\"}}}]})\n",
    "\n",
    "next(docs)\n",
    "collection.count_documents({\"$or\":[ { \"abstract\":{\"$exists\":1,\"$regex\" : \".*machine learning.*\"}},\n",
    "                                {\"meshwords\":{\"$exists\":1,\"$elemMatch\" : {\"$regex\" : \".*machine learning.*\"}}},\n",
    "                                {\"title\": {\"$exists\":1,\"$elemMatch\" : {\"$regex\" : \".*machine learning.*\"}}}]})"
   ]
  },
  {
   "cell_type": "markdown",
   "metadata": {},
   "source": [
    "Exo 7"
   ]
  },
  {
   "cell_type": "code",
   "execution_count": null,
   "metadata": {},
   "outputs": [],
   "source": [
    "myquery15 = {\"$and\":[{ \"meshwords\" : {'$size' : {'$gt' : 1}}\n",
    "    },\n",
    "                     {\"affiliation\": {'$size' : {'$gt' : 1}}}]}\n",
    "collection.count_documents(myquery15)"
   ]
  },
  {
   "cell_type": "markdown",
   "metadata": {},
   "source": [
    "Exo 8"
   ]
  },
  {
   "cell_type": "code",
   "execution_count": null,
   "metadata": {},
   "outputs": [],
   "source": [
    "date_str2 = \"01/01/2020\"\n",
    "date2 = datetime.datetime.strptime(date_str2, \"%d/%m/%Y\")\n",
    "date2 = datetime.datetime.timestamp(date2)\n",
    "\n",
    "myquery2 = {\"unix\" : {\"$gt\" : date2}}\n",
    "\n",
    "collection.count_documents(myquery2)"
   ]
  },
  {
   "cell_type": "markdown",
   "metadata": {},
   "source": [
    "Exo 9"
   ]
  },
  {
   "cell_type": "code",
   "execution_count": null,
   "metadata": {},
   "outputs": [],
   "source": [
    "myquery4 = { \"authors\":{\"$exists\":1,\"$regex\" : \".*France.*\"}}\n",
    "collection.count_documents(myquery4)\n",
    "country = collection.find(myquery4)\n",
    "next(country)"
   ]
  },
  {
   "cell_type": "markdown",
   "metadata": {},
   "source": [
    "Exo 10"
   ]
  },
  {
   "cell_type": "code",
   "execution_count": null,
   "metadata": {},
   "outputs": [],
   "source": [
    "collection2 = mydb[\"France\"]\n",
    "collection2.insert_many(country)\n",
    "\n",
    "myquery5 = {\"pmid\" :{\"$eq\" : 30656495}}\n",
    "collection2.count_documents(myquery5)# there is no duplicates"
   ]
  },
  {
   "cell_type": "markdown",
   "metadata": {},
   "source": [
    "Exo 11"
   ]
  },
  {
   "cell_type": "code",
   "execution_count": null,
   "metadata": {},
   "outputs": [],
   "source": [
    "collection.count_documents({\"abstract\" : {\"$exists\":1,\"$regex\" :'\"R' ,\"$options\" : \"m\"}})\n",
    "#Because there are quotation marks inside quotation marks we should just match the exact string that is  \"R."
   ]
  },
  {
   "cell_type": "markdown",
   "metadata": {},
   "source": [
    "Exo 12"
   ]
  },
  {
   "cell_type": "code",
   "execution_count": null,
   "metadata": {},
   "outputs": [],
   "source": [
    "myquery7 = {\"authors\" : {\"$exists\": 1,\"$not\": {\"$regex\" : ';'}}}\n",
    "collection.count_documents(myquery7)\n",
    "collection3 = mydb[\"12\"]\n",
    "samenbr = collection.find(myquery7)\n",
    "collection3.insert_many(samenbr)"
   ]
  },
  {
   "cell_type": "markdown",
   "metadata": {},
   "source": [
    "Exo 13"
   ]
  },
  {
   "cell_type": "code",
   "execution_count": null,
   "metadata": {},
   "outputs": [],
   "source": [
    "def sample_generator():\n",
    "    myquery_sample =[ {\"$sample\" : {\"size\" : 500}}]\n",
    "    mean_value =[]\n",
    "    for i in range (0,500,1):\n",
    "       \n",
    "        sample_500 = collection.aggregate(myquery_sample)\n",
    "        team_sum = 0\n",
    "        \n",
    "        for x in sample_500:\n",
    "            team_sum += x['team_size']\n",
    "        mean_value.append(team_sum/500)    \n",
    "        \n",
    "        team_sum =0\n",
    "    return mean_value\n",
    "\n",
    "sample_generator()\n",
    "# we make 500 samples an each has 500 elements and we return the mean value of the team size for each sample"
   ]
  },
  {
   "cell_type": "markdown",
   "metadata": {},
   "source": [
    "Exo 14"
   ]
  },
  {
   "cell_type": "code",
   "execution_count": null,
   "metadata": {},
   "outputs": [],
   "source": [
    "myquery8={\"$and\":[{\"abstract\":{\"$exists\":1,\"$regex\" : \"machine learning\",\"$options\" : \"i\"}},\n",
    "                                {\"country_list\":{\"$exists\":1,\"$regex\" : \"Germany\"}}]}\n",
    "\n",
    "collection.count_documents(myquery8)\n",
    "\n",
    "myquery9={\"$and\":[{\"meshwords\":{\"$exists\":1,\"$regex\" : \"Machine Learning\",\"$options\" : \"i\"}},\n",
    "                                {\"country_list\":{\"$exists\":1,\"$regex\" : \"Germany\"}}]}\n",
    "\n",
    "collection.count_documents(myquery9)\n",
    "\n",
    "myquery10={\"$and\":[{\"abstract\":{\"$exists\":1,\"$regex\" : \"machine learning\",\"$options\" : \"i\"}},\n",
    "                                {\"country_list\":{\"$exists\":1,\"$regex\" : \"France\"}}]}\n",
    "\n",
    "collection.count_documents(myquery10)\n",
    "\n",
    "myquery11={\"$and\":[{\"meshwords\":{\"$exists\":1,\"$regex\" : \"Machine Learning\",\"$options\" : \"i\"}},\n",
    "                                {\"country_list\":{\"$exists\":1,\"$regex\" : \"France\"}}]}\n",
    "\n",
    "collection.count_documents(myquery11)\n",
    "\n",
    "myquery12={\"$and\":[{\"abstract\":{\"$exists\":1,\"$regex\" : \"machine learning\",\"$options\" : \"i\"}},\n",
    "                                {\"country_list\":{\"$exists\":1,\"$regex\" : \"China\"}}]}\n",
    "\n",
    "collection.count_documents(myquery12)\n",
    "\n",
    "myquery13={\"$and\":[{\"meshwords\":{\"$exists\":1,\"$regex\" : \"Machine Learning\",\"$options\" : \"i\"}},\n",
    "                                {\"country_list\":{\"$exists\":1,\"$regex\" : \"China\"}}]}\n",
    "\n",
    "collection.count_documents(myquery13)\n",
    "\n",
    "myquery14={\"$and\":[{\"abstract\":{\"$exists\":1,\"$regex\" : \"machine learning\",\"$options\" : \"i\"}},\n",
    "                                {\"country_list\":{\"$exists\":1,\"$regex\" : \"United States\"}}]}\n",
    "\n",
    "collection.count_documents(myquery14)\n",
    "\n",
    "myquery15={\"$and\":[{\"meshwords\":{\"$exists\":1,\"$regex\" : \"Machine Learning\",\"$options\" : \"i\"}},\n",
    "                                {\"country_list\":{\"$exists\":1,\"$regex\" : \"United States\"}}]}\n",
    "\n",
    "collection.count_documents(myquery15)\n",
    "\n",
    "collection.count_documents({ \"abstract\":{\"$exists\":1,\"$regex\" : \"machine learning\",\"$options\" : \"i\"}})"
   ]
  }
 ],
 "metadata": {
  "kernelspec": {
   "display_name": "Python 3",
   "language": "python",
   "name": "python3"
  },
  "language_info": {
   "codemirror_mode": {
    "name": "ipython",
    "version": 3
   },
   "file_extension": ".py",
   "mimetype": "text/x-python",
   "name": "python",
   "nbconvert_exporter": "python",
   "pygments_lexer": "ipython3",
   "version": "3.8.5"
  }
 },
 "nbformat": 4,
 "nbformat_minor": 4
}
