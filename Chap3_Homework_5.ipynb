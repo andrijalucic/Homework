{
 "cells": [
  {
   "cell_type": "code",
   "execution_count": null,
   "id": "b0c5b08e",
   "metadata": {},
   "outputs": [],
   "source": [
    "import pandas as pd\n",
    "import py2neo\n",
    "import tqdm\n",
    "\n",
    "\n",
    "\n",
    "graph = py2neo.Graph(\"bolt://localhost:7687\", auth=(\"neo4j\", \"\"), name=\"hw5\")\n",
    "\n",
    "targetFR = pd.read_csv(\"FR_target.csv\")\n",
    "\n",
    "transaction = \"\"\"UNWIND $json as data CREATE (n:Streamer) SET n = data\n",
    "\"\"\"\n",
    "\n",
    "transaction_list = []\n",
    "\n",
    "iteration = 0\n",
    "for row in tqdm.tqdm(targetFR.iterrows()):\n",
    "    transaction_list.append(dict(row[1]))\n",
    "    iteration += 1\n",
    "    if iteration % 1000 == 0:\n",
    "        graph.run(transaction, json=transaction_list)\n",
    "        transaction_list = []\n",
    "        \n",
    "graph.run(transaction, json=transaction_list)\n",
    "\n",
    "\n",
    "query=\"\"\"\n",
    "LOAD CSV WITH HEADERS FROM 'file:///C:/Users/850/Desktop/Data_files/FR_edges.csv' AS csvLine \n",
    "MATCH (a:Streamer), (b:Streamer)   \n",
    "where a.new_id=toInteger(csvLine.from) AND b.new_id=toInteger(csvLine.to)\n",
    "CREATE (a)-[r:COLLAB]->(b)\n",
    "\"\"\"\n",
    "graph.run(query)"
   ]
  },
  {
   "cell_type": "markdown",
   "id": "c75f1a8f",
   "metadata": {},
   "source": [
    "## question 1"
   ]
  },
  {
   "cell_type": "code",
   "execution_count": null,
   "id": "cce5cf7f",
   "metadata": {},
   "outputs": [],
   "source": [
    "query= \"\"\"MATCH (a:Streamer)-[r:COLLAB]-(b:Streamer)\n",
    "RETURN DISTINCT a.new_id AS id, a.views AS Views ORDER BY Views DESC LIMIT 10\n",
    "\"\"\"\n",
    "result_1 = graph.run(query).to_data_frame()\n",
    "result_1"
   ]
  },
  {
   "cell_type": "markdown",
   "id": "e211e12b",
   "metadata": {},
   "source": [
    "## question 2\n"
   ]
  },
  {
   "cell_type": "code",
   "execution_count": null,
   "id": "165c9f4a",
   "metadata": {},
   "outputs": [],
   "source": [
    "query= \"\"\"MATCH (n)\n",
    "WITH n, size((n)-[:COLLAB->()) as degree\n",
    "RETURN degree;\n",
    "\"\"\"\n",
    "import seaborn as sns\n",
    "\n",
    "result_2 = graph.run(query).to_data_frame()\n",
    "ax = sns.distplot(result_2[\"degree\"],hist=False)\n",
    "ax.title.set_text(\"Density of degrees\")\n",
    "\n",
    "# The power law can be used to describe a phenomenon where a small number of items is clustered at the top of a distribution.\n",
    "# In this case we see that only the first 100 are at the top of the distribution. "
   ]
  },
  {
   "cell_type": "markdown",
   "id": "8873f381",
   "metadata": {},
   "source": [
    "## question 3 "
   ]
  },
  {
   "cell_type": "code",
   "execution_count": null,
   "id": "5e75a540",
   "metadata": {},
   "outputs": [],
   "source": [
    "query= \"\"\"MATCH (n:Streamer)\n",
    "WHERE n.mature = True\n",
    "RETURN count(n.new_id)\n",
    "\"\"\"\n",
    "result_3 = graph.run(query).to_data_frame()\n",
    "result_3"
   ]
  },
  {
   "cell_type": "markdown",
   "id": "de9ebe83",
   "metadata": {},
   "source": [
    "## question 4"
   ]
  },
  {
   "cell_type": "code",
   "execution_count": null,
   "id": "91a8f752",
   "metadata": {},
   "outputs": [],
   "source": [
    "query= \"\"\"MATCH (a:Streamer)-[r:COLLAB]->(b:Streamer)\n",
    "WHERE a.mature=true\n",
    "RETURN COUNT(DISTINCT a.new_id)\n",
    "\"\"\"\n",
    "result_4 = graph.run(query).to_data_frame()\n",
    "result_4"
   ]
  },
  {
   "cell_type": "markdown",
   "id": "268e182c",
   "metadata": {},
   "source": [
    "## question 5"
   ]
  },
  {
   "cell_type": "code",
   "execution_count": null,
   "id": "40162636",
   "metadata": {},
   "outputs": [],
   "source": [
    "query= \"\"\"MATCH (a:Streamer)-[r:COLLAB]-(b:Streamer)\n",
    "WHERE a.partner=true\n",
    "RETURN COUNT( DISTINCT a.new_id)\n",
    "\"\"\"\n",
    "result_5_1 = graph.run(query).to_data_frame()\n",
    "result_5_1\n",
    "\n",
    "\n",
    "query= \"\"\"MATCH (a:Streamer)-[r:COLLAB]-(b:Streamer)\n",
    "WHERE a.partner=false\n",
    "RETURN COUNT( DISTINCT a.new_id)\n",
    "\"\"\"\n",
    "result_5_2 = graph.run(query).to_data_frame()\n",
    "result_5_2"
   ]
  },
  {
   "cell_type": "markdown",
   "id": "e9301fd3",
   "metadata": {},
   "source": [
    "## question 6"
   ]
  },
  {
   "cell_type": "code",
   "execution_count": null,
   "id": "b83eb903",
   "metadata": {},
   "outputs": [],
   "source": [
    "# Sandbox exercise: Are the same streamrs at the to when calculated with views per day? \n",
    "\n",
    "query= \"\"\"MATCH (a:Streamer)-[r:COLLAB]-(b:Streamer)\n",
    "RETURN DISTINCT a.new_id AS id,a.days AS Days, a.views AS Views ,(a.views/a.days) as Views_per_day ORDER BY Views_per_day DESC LIMIT 10\n",
    "\"\"\"\n",
    "result_6_1 = graph.run(query).to_data_frame()\n",
    "result_6_1\n",
    "\n",
    "query= \"\"\"MATCH (a:Streamer)-[r:COLLAB]-(b:Streamer)\n",
    "RETURN DISTINCT a.new_id AS id, a.views AS Views ORDER BY Views DESC LIMIT 10\n",
    "\"\"\"\n",
    "result_6_2 = graph.run(query).to_data_frame()\n",
    "result_6_2"
   ]
  }
 ],
 "metadata": {
  "kernelspec": {
   "display_name": "Python 3",
   "language": "python",
   "name": "python3"
  },
  "language_info": {
   "codemirror_mode": {
    "name": "ipython",
    "version": 3
   },
   "file_extension": ".py",
   "mimetype": "text/x-python",
   "name": "python",
   "nbconvert_exporter": "python",
   "pygments_lexer": "ipython3",
   "version": "3.8.5"
  }
 },
 "nbformat": 4,
 "nbformat_minor": 5
}
