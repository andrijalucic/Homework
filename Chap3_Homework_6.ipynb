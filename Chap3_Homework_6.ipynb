{
 "cells": [
  {
   "cell_type": "markdown",
   "metadata": {},
   "source": [
    "Homework 6"
   ]
  },
  {
   "cell_type": "code",
   "execution_count": null,
   "metadata": {},
   "outputs": [],
   "source": [
    "import pandas as pd\n",
    "import tqdm\n",
    "import py2neo\n",
    "\n",
    "download_url = (\n",
    "       \"https://raw.githubusercontent.com/\"\n",
    "        \"master-ds2e/NoSQL/master/data/stackoverflow_network/stack_network_links.csv\" )\n",
    "\n",
    "links = pd.read_csv(download_url)\n",
    "graph = py2neo.Graph(\"bolt://localhost:7687\", auth=(\"neo4j\", \"password_tuts\"), name=\"hw6\")\n",
    "graph.delete_all()\n",
    "\n",
    "download_url2 = (\n",
    "       \"https://raw.githubusercontent.com/\"\n",
    "        \"master-ds2e/NoSQL/master/data/stackoverflow_network/stack_network_nodes.csv\" )\n",
    "\n",
    "nodes = pd.read_csv(download_url2)\n",
    "text = nodes.iterrows()\n",
    "test = next(text)\n",
    "print (test[1])\n",
    "\n",
    "\n",
    "try:\n",
    "    graph.run(\"CREATE CONSTRAINT ON (n:Nodes) ASSERT n.name IS UNIQUE\")\n",
    "except:\n",
    "    print(\"Constraint already exists\")\n",
    "    \n",
    "transaction_list = []\n",
    "transaction = \"UNWIND $json as data CREATE (n:Nodes) SET n = data\"\n",
    "iteration = 0\n",
    "for row in tqdm.tqdm(nodes.iterrows()):\n",
    "    name = row[1][\"name\"]\n",
    "    group = row[1][\"group\"] \n",
    "    nodesize = row[1][\"nodesize\"] \n",
    "    transaction_list.append({\"name\":name,\"group\":group, \"nodesize\":nodesize})\n",
    "    iteration += 1\n",
    "    if iteration % 1000 == 0:\n",
    "        \n",
    "        graph.run(transaction, json=transaction_list)\n",
    "        transaction_list = []\n",
    "graph.run(transaction, json=transaction_list)        \n",
    "        \n",
    "transaction_list = []\n",
    "transaction = \"UNWIND $json as data CREATE (n:Links) SET n = data\"\n",
    "iteration = 0\n",
    "for row in tqdm.tqdm(links.iterrows()):\n",
    "    source = row[1][\"source\"]\n",
    "    target = row[1][\"target\"] \n",
    "    value = row[1][\"value\"] \n",
    "    transaction_list.append({\"source\":source,\"target\":target, \"value\":value})\n",
    "    iteration += 1\n",
    "    if iteration % 1000 == 0:\n",
    "        \n",
    "        graph.run(transaction, json=transaction_list)\n",
    "        transaction_list = []\n",
    "        \n",
    "graph.run(transaction, json=transaction_list)"
   ]
  },
  {
   "cell_type": "markdown",
   "metadata": {},
   "source": [
    "Exo 1"
   ]
  },
  {
   "cell_type": "code",
   "execution_count": null,
   "metadata": {},
   "outputs": [],
   "source": [
    "query = \"\"\"\n",
    "MATCH (n : Nodes)\n",
    "WHERE exists(n.nodesize)\n",
    "RETURN n\n",
    "ORDER BY n.nodesize DESC\n",
    "LIMIT 10\n",
    "\"\"\"\n",
    "data = graph.run(query).to_data_frame()\n",
    "print(data)"
   ]
  },
  {
   "cell_type": "markdown",
   "metadata": {},
   "source": [
    "Exo 2"
   ]
  },
  {
   "cell_type": "code",
   "execution_count": null,
   "metadata": {},
   "outputs": [],
   "source": [
    "query2 = \"\"\"\n",
    "MATCH (n : Links)\n",
    "WHERE exists(n.value)\n",
    "RETURN n\n",
    "ORDER BY n.value DESC\n",
    "LIMIT 20\n",
    "\"\"\"\n",
    "data = graph.run(query2).to_data_frame()\n",
    "print(data)"
   ]
  },
  {
   "cell_type": "markdown",
   "metadata": {},
   "source": [
    "Exo 3"
   ]
  },
  {
   "cell_type": "code",
   "execution_count": null,
   "metadata": {},
   "outputs": [],
   "source": [
    "query2 = \"\"\"\n",
    "MATCH (n : Nodes)\n",
    "WHERE n.group = 1\n",
    "RETURN n.group, n.name\n",
    "\"\"\"\n",
    "data = graph.run(query2).to_data_frame()\n",
    "print(data)"
   ]
  },
  {
   "cell_type": "markdown",
   "metadata": {},
   "source": [
    "Exo 4 : we didn't find the solution   "
   ]
  },
  {
   "cell_type": "markdown",
   "metadata": {},
   "source": [
    "Exo 5"
   ]
  },
  {
   "cell_type": "code",
   "execution_count": null,
   "metadata": {},
   "outputs": [],
   "source": [
    "# the problem is that we don't have 14 different colors in neo4j\n",
    "\n",
    "for i in range(1, 15):\n",
    "    query = \"\"\"MATCH (n:Nodes)\n",
    "    WHERE n.group = {}\n",
    "    SET n : Group{}\n",
    "    \"\"\".format(str(i), (i))\n",
    "    data = graph.run(query).to_data_frame()\n",
    "print(data)"
   ]
  },
  {
   "cell_type": "markdown",
   "metadata": {},
   "source": [
    "Our idea was to create a node for every group and to give each node different color, but in neo4j exists 14 colors and we had 15 groups"
   ]
  }
 ],
 "metadata": {
  "kernelspec": {
   "display_name": "Python 3",
   "language": "python",
   "name": "python3"
  },
  "language_info": {
   "codemirror_mode": {
    "name": "ipython",
    "version": 3
   },
   "file_extension": ".py",
   "mimetype": "text/x-python",
   "name": "python",
   "nbconvert_exporter": "python",
   "pygments_lexer": "ipython3",
   "version": "3.8.5"
  }
 },
 "nbformat": 4,
 "nbformat_minor": 4
}
